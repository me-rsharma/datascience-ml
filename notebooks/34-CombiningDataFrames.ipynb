{
 "cells": [
  {
   "cell_type": "code",
   "execution_count": null,
   "id": "e6e5996f-418f-4af4-b66a-ba80edccef16",
   "metadata": {},
   "outputs": [],
   "source": []
  }
 ],
 "metadata": {
  "kernelspec": {
   "display_name": "",
   "name": ""
  },
  "language_info": {
   "name": ""
  }
 },
 "nbformat": 4,
 "nbformat_minor": 5
}
