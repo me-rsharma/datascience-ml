{
 "cells": [
  {
   "cell_type": "markdown",
   "id": "51e19f05-5717-4728-9ec5-e72f707b6caf",
   "metadata": {},
   "source": [
    "### Pandas\n",
    "\n",
    "- Pandas is a python library used for **data analysis**\n",
    "- Pandas uses **DataFrame** that built on Numpy for data analysis, manipulation and process efficiently\n",
    "- Can be used to read and write data between wide varieties of data format such as `csv`, `xlsx`, `json`, `sql`, `parquet`, `feather` and so on\n",
    "- Helps to read data efficiently using **indexing, slicing** and so on\n",
    "- Adjust and restructure data\n",
    "- Helps to handle **missing** data"
   ]
  },
  {
   "cell_type": "markdown",
   "id": "fcd7d316-9c0c-450d-8d18-5470fc03ed1d",
   "metadata": {},
   "source": [
    "### Pandas - Section Overview\n",
    "\n",
    "- Series and DataFrame\n",
    "- Reading data from files\n",
    "- Handling missing data\n",
    "- Conditional Flitering\n",
    "- Group By operations\n",
    "- Combining dataframes\n",
    "- Text methods and time methods\n",
    "- Inputs and Outputs data using Pandas"
   ]
  },
  {
   "cell_type": "code",
   "execution_count": 1,
   "id": "1e347e24-acea-4ee1-a729-e075a70acb78",
   "metadata": {},
   "outputs": [],
   "source": [
    "import pandas as pd\n",
    "import numpy as np"
   ]
  },
  {
   "cell_type": "markdown",
   "id": "85235030-99d6-4ebb-9e9a-d96164db0f4e",
   "metadata": {},
   "source": [
    "#### Series\n",
    "- A series is a data structure in Pandas that holds an array of information along with named/labelled index\n",
    "- Formal defn: **One-dimensional** ndarray with label/named index"
   ]
  },
  {
   "cell_type": "code",
   "execution_count": 2,
   "id": "92275300-41fe-4272-9a33-1be20e38302a",
   "metadata": {},
   "outputs": [],
   "source": [
    "# Creating Pandas Series\n",
    "narr = np.arange(8)"
   ]
  },
  {
   "cell_type": "code",
   "execution_count": 3,
   "id": "e0ee3d7d-facf-41f3-8fda-d52255541e60",
   "metadata": {},
   "outputs": [
    {
     "data": {
      "text/plain": [
       "array([0, 1, 2, 3, 4, 5, 6, 7])"
      ]
     },
     "execution_count": 3,
     "metadata": {},
     "output_type": "execute_result"
    }
   ],
   "source": [
    "narr"
   ]
  },
  {
   "cell_type": "code",
   "execution_count": 4,
   "id": "453f8e61-2e2e-469a-a789-7fe9c554bd79",
   "metadata": {},
   "outputs": [
    {
     "data": {
      "text/plain": [
       "0    0\n",
       "1    1\n",
       "2    2\n",
       "3    3\n",
       "4    4\n",
       "5    5\n",
       "6    6\n",
       "7    7\n",
       "dtype: int64"
      ]
     },
     "execution_count": 4,
     "metadata": {},
     "output_type": "execute_result"
    }
   ],
   "source": [
    "pd.Series(data=narr)"
   ]
  },
  {
   "cell_type": "code",
   "execution_count": 7,
   "id": "e5ba95d1-8e02-4b62-b424-32467091273e",
   "metadata": {},
   "outputs": [],
   "source": [
    "cities = ['Varanasi', 'Pune', 'Mumbai', 'Delhi']\n",
    "temperature = [18, 24, 28, 16]"
   ]
  },
  {
   "cell_type": "code",
   "execution_count": 12,
   "id": "122fa17c-b146-41a7-b870-9d2b2c2da21e",
   "metadata": {},
   "outputs": [],
   "source": [
    "city_se = pd.Series(data=temperature, index=cities)"
   ]
  },
  {
   "cell_type": "code",
   "execution_count": 13,
   "id": "bcdf2d11-0d44-4717-adce-e2dfb1df7034",
   "metadata": {},
   "outputs": [
    {
     "data": {
      "text/plain": [
       "Varanasi    18\n",
       "Pune        24\n",
       "Mumbai      28\n",
       "Delhi       16\n",
       "dtype: int64"
      ]
     },
     "execution_count": 13,
     "metadata": {},
     "output_type": "execute_result"
    }
   ],
   "source": [
    "city_se"
   ]
  },
  {
   "cell_type": "code",
   "execution_count": 9,
   "id": "98ecb219-10ba-4354-b2fb-928b2a835e0a",
   "metadata": {},
   "outputs": [],
   "source": [
    "# we can also use Python dictionary to create Series object\n",
    "city_temp = {\"Jaipur\":28, \"Pune\":23, \"Mumbai\": 29, \"Delhi\": 14}"
   ]
  },
  {
   "cell_type": "code",
   "execution_count": 10,
   "id": "7b83676a-0fbd-4f6a-ab62-7ccc01489dba",
   "metadata": {},
   "outputs": [],
   "source": [
    "city_seone = pd.Series(data=city_temp)"
   ]
  },
  {
   "cell_type": "code",
   "execution_count": 11,
   "id": "24f7c788-8639-4412-a6e1-7a74a5429b20",
   "metadata": {},
   "outputs": [
    {
     "data": {
      "text/plain": [
       "Jaipur    28\n",
       "Pune      23\n",
       "Mumbai    29\n",
       "Delhi     14\n",
       "dtype: int64"
      ]
     },
     "execution_count": 11,
     "metadata": {},
     "output_type": "execute_result"
    }
   ],
   "source": [
    "city_seone"
   ]
  },
  {
   "cell_type": "code",
   "execution_count": 14,
   "id": "80da78c6-95e3-4ef4-b10a-9c4d2ea6acf2",
   "metadata": {},
   "outputs": [
    {
     "data": {
      "text/plain": [
       "np.int64(24)"
      ]
     },
     "execution_count": 14,
     "metadata": {},
     "output_type": "execute_result"
    }
   ],
   "source": [
    "# fetching data \n",
    "city_se['Pune']"
   ]
  },
  {
   "cell_type": "code",
   "execution_count": 15,
   "id": "8f541074-c403-4c5f-b082-771eea033476",
   "metadata": {},
   "outputs": [
    {
     "data": {
      "text/plain": [
       "Pune      24\n",
       "Mumbai    28\n",
       "Delhi     16\n",
       "dtype: int64"
      ]
     },
     "execution_count": 15,
     "metadata": {},
     "output_type": "execute_result"
    }
   ],
   "source": [
    "city_se['Pune':\"Delhi\"]"
   ]
  },
  {
   "cell_type": "code",
   "execution_count": 16,
   "id": "678b6f29-77ea-43ef-87fe-650a7e7072e4",
   "metadata": {},
   "outputs": [
    {
     "data": {
      "text/plain": [
       "(4,)"
      ]
     },
     "execution_count": 16,
     "metadata": {},
     "output_type": "execute_result"
    }
   ],
   "source": [
    "city_se.shape"
   ]
  },
  {
   "cell_type": "code",
   "execution_count": 17,
   "id": "38e68720-1957-4b47-b055-7b7267ed6554",
   "metadata": {},
   "outputs": [
    {
     "data": {
      "text/plain": [
       "Varanasi    20\n",
       "Pune        26\n",
       "Mumbai      30\n",
       "Delhi       18\n",
       "dtype: int64"
      ]
     },
     "execution_count": 17,
     "metadata": {},
     "output_type": "execute_result"
    }
   ],
   "source": [
    "# adding numbers to series\n",
    "city_se + 2"
   ]
  },
  {
   "cell_type": "code",
   "execution_count": 19,
   "id": "59dca31d-7e37-45bc-bed8-a0519fadccb8",
   "metadata": {},
   "outputs": [
    {
     "data": {
      "text/plain": [
       "Delhi       30.0\n",
       "Jaipur       NaN\n",
       "Mumbai      57.0\n",
       "Pune        47.0\n",
       "Varanasi     NaN\n",
       "dtype: float64"
      ]
     },
     "execution_count": 19,
     "metadata": {},
     "output_type": "execute_result"
    }
   ],
   "source": [
    "city_se + city_seone"
   ]
  },
  {
   "cell_type": "code",
   "execution_count": 21,
   "id": "11d8bff0-d635-486a-bd6a-c3ce36f0d76a",
   "metadata": {},
   "outputs": [
    {
     "data": {
      "text/plain": [
       "Delhi       30.0\n",
       "Jaipur      28.0\n",
       "Mumbai      57.0\n",
       "Pune        47.0\n",
       "Varanasi    18.0\n",
       "dtype: float64"
      ]
     },
     "execution_count": 21,
     "metadata": {},
     "output_type": "execute_result"
    }
   ],
   "source": [
    "# We are getting NaN for Varanasi and Jaipur as these keys are not common in both the Series\n",
    "# so when we are adding 2 series make sure we have common index\n",
    "# but there is a way we can avoid getting NaN by replacing with 0\n",
    "city_se.add(other=city_seone, fill_value=0)"
   ]
  },
  {
   "cell_type": "code",
   "execution_count": 23,
   "id": "b75a844c-f729-4dd4-a4f1-e0fb6aff6e56",
   "metadata": {},
   "outputs": [
    {
     "data": {
      "text/plain": [
       "array([18, 24, 28, 16, 28, 23, 29, 14])"
      ]
     },
     "execution_count": 23,
     "metadata": {},
     "output_type": "execute_result"
    }
   ],
   "source": [
    "np.concat((city_se, city_seone))"
   ]
  },
  {
   "cell_type": "code",
   "execution_count": null,
   "id": "a34a4b5d-b8a9-4ba6-95a2-0efa14ea4713",
   "metadata": {},
   "outputs": [],
   "source": []
  }
 ],
 "metadata": {
  "kernelspec": {
   "display_name": "Python 3 (ipykernel)",
   "language": "python",
   "name": "python3"
  },
  "language_info": {
   "codemirror_mode": {
    "name": "ipython",
    "version": 3
   },
   "file_extension": ".py",
   "mimetype": "text/x-python",
   "name": "python",
   "nbconvert_exporter": "python",
   "pygments_lexer": "ipython3",
   "version": "3.11.1"
  }
 },
 "nbformat": 4,
 "nbformat_minor": 5
}
