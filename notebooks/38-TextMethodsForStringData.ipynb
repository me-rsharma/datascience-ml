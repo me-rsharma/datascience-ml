{
 "cells": [
  {
   "cell_type": "code",
   "execution_count": 1,
   "id": "5dbe6c84-4d8d-40a2-a53e-e5bcf450d6b7",
   "metadata": {},
   "outputs": [],
   "source": [
    "import pandas as pd\n",
    "import numpy as np"
   ]
  },
  {
   "cell_type": "code",
   "execution_count": 78,
   "id": "878048a9-07c6-4ec1-840f-608551e859fe",
   "metadata": {},
   "outputs": [],
   "source": [
    "df = pd.DataFrame(data=[['Rama', 'Krishna', 'Kanha', 'Shyam'], [19,16,12,16]]).transpose()"
   ]
  },
  {
   "cell_type": "code",
   "execution_count": 79,
   "id": "06b92705-3e59-4575-9c99-0e160ad8f2fa",
   "metadata": {},
   "outputs": [
    {
     "data": {
      "text/html": [
       "<div>\n",
       "<style scoped>\n",
       "    .dataframe tbody tr th:only-of-type {\n",
       "        vertical-align: middle;\n",
       "    }\n",
       "\n",
       "    .dataframe tbody tr th {\n",
       "        vertical-align: top;\n",
       "    }\n",
       "\n",
       "    .dataframe thead th {\n",
       "        text-align: right;\n",
       "    }\n",
       "</style>\n",
       "<table border=\"1\" class=\"dataframe\">\n",
       "  <thead>\n",
       "    <tr style=\"text-align: right;\">\n",
       "      <th></th>\n",
       "      <th>0</th>\n",
       "      <th>1</th>\n",
       "    </tr>\n",
       "  </thead>\n",
       "  <tbody>\n",
       "    <tr>\n",
       "      <th>0</th>\n",
       "      <td>Rama</td>\n",
       "      <td>19</td>\n",
       "    </tr>\n",
       "    <tr>\n",
       "      <th>1</th>\n",
       "      <td>Krishna</td>\n",
       "      <td>16</td>\n",
       "    </tr>\n",
       "    <tr>\n",
       "      <th>2</th>\n",
       "      <td>Kanha</td>\n",
       "      <td>12</td>\n",
       "    </tr>\n",
       "    <tr>\n",
       "      <th>3</th>\n",
       "      <td>Shyam</td>\n",
       "      <td>16</td>\n",
       "    </tr>\n",
       "  </tbody>\n",
       "</table>\n",
       "</div>"
      ],
      "text/plain": [
       "         0   1\n",
       "0     Rama  19\n",
       "1  Krishna  16\n",
       "2    Kanha  12\n",
       "3    Shyam  16"
      ]
     },
     "execution_count": 79,
     "metadata": {},
     "output_type": "execute_result"
    }
   ],
   "source": [
    "df"
   ]
  },
  {
   "cell_type": "code",
   "execution_count": 80,
   "id": "9c7e626e-dcd4-4be7-a392-25bd32085baa",
   "metadata": {},
   "outputs": [],
   "source": [
    "df.columns = ['name', 'age']"
   ]
  },
  {
   "cell_type": "code",
   "execution_count": 81,
   "id": "6de5af53-c96f-460c-8338-b1a6c91c83c0",
   "metadata": {},
   "outputs": [
    {
     "data": {
      "text/html": [
       "<div>\n",
       "<style scoped>\n",
       "    .dataframe tbody tr th:only-of-type {\n",
       "        vertical-align: middle;\n",
       "    }\n",
       "\n",
       "    .dataframe tbody tr th {\n",
       "        vertical-align: top;\n",
       "    }\n",
       "\n",
       "    .dataframe thead th {\n",
       "        text-align: right;\n",
       "    }\n",
       "</style>\n",
       "<table border=\"1\" class=\"dataframe\">\n",
       "  <thead>\n",
       "    <tr style=\"text-align: right;\">\n",
       "      <th></th>\n",
       "      <th>name</th>\n",
       "      <th>age</th>\n",
       "    </tr>\n",
       "  </thead>\n",
       "  <tbody>\n",
       "    <tr>\n",
       "      <th>0</th>\n",
       "      <td>Rama</td>\n",
       "      <td>19</td>\n",
       "    </tr>\n",
       "    <tr>\n",
       "      <th>1</th>\n",
       "      <td>Krishna</td>\n",
       "      <td>16</td>\n",
       "    </tr>\n",
       "    <tr>\n",
       "      <th>2</th>\n",
       "      <td>Kanha</td>\n",
       "      <td>12</td>\n",
       "    </tr>\n",
       "    <tr>\n",
       "      <th>3</th>\n",
       "      <td>Shyam</td>\n",
       "      <td>16</td>\n",
       "    </tr>\n",
       "  </tbody>\n",
       "</table>\n",
       "</div>"
      ],
      "text/plain": [
       "      name age\n",
       "0     Rama  19\n",
       "1  Krishna  16\n",
       "2    Kanha  12\n",
       "3    Shyam  16"
      ]
     },
     "execution_count": 81,
     "metadata": {},
     "output_type": "execute_result"
    }
   ],
   "source": [
    "df"
   ]
  },
  {
   "cell_type": "code",
   "execution_count": 82,
   "id": "5834ff8d-e566-4443-ad6e-a6ddb9f9c65c",
   "metadata": {},
   "outputs": [
    {
     "name": "stdout",
     "output_type": "stream",
     "text": [
      "<class 'pandas.core.frame.DataFrame'>\n",
      "RangeIndex: 4 entries, 0 to 3\n",
      "Data columns (total 2 columns):\n",
      " #   Column  Non-Null Count  Dtype \n",
      "---  ------  --------------  ----- \n",
      " 0   name    4 non-null      object\n",
      " 1   age     4 non-null      object\n",
      "dtypes: object(2)\n",
      "memory usage: 192.0+ bytes\n"
     ]
    }
   ],
   "source": [
    "df.info()"
   ]
  },
  {
   "cell_type": "code",
   "execution_count": 83,
   "id": "042b3a0e-905c-47d2-9c3d-1980d580ebe2",
   "metadata": {},
   "outputs": [],
   "source": [
    "df = df.astype({'age': int})"
   ]
  },
  {
   "cell_type": "code",
   "execution_count": 84,
   "id": "44cdb927-4f59-4861-80cb-74dceecd5e46",
   "metadata": {},
   "outputs": [
    {
     "name": "stdout",
     "output_type": "stream",
     "text": [
      "<class 'pandas.core.frame.DataFrame'>\n",
      "RangeIndex: 4 entries, 0 to 3\n",
      "Data columns (total 2 columns):\n",
      " #   Column  Non-Null Count  Dtype \n",
      "---  ------  --------------  ----- \n",
      " 0   name    4 non-null      object\n",
      " 1   age     4 non-null      int64 \n",
      "dtypes: int64(1), object(1)\n",
      "memory usage: 192.0+ bytes\n"
     ]
    }
   ],
   "source": [
    "df.info()"
   ]
  },
  {
   "cell_type": "markdown",
   "id": "5d985fc4-c939-456b-99a2-4c48f967ec72",
   "metadata": {},
   "source": [
    "To work with string/text data or to manipulate or transformed string/text data we can use `apply()` or simply use `.str` and then aplly Python string methods on it "
   ]
  },
  {
   "cell_type": "code",
   "execution_count": 85,
   "id": "18619c34-5b06-4411-9064-e54bb9c00fd1",
   "metadata": {},
   "outputs": [
    {
     "data": {
      "text/plain": [
       "0       RAMA\n",
       "1    KRISHNA\n",
       "2      KANHA\n",
       "3      SHYAM\n",
       "Name: name, dtype: object"
      ]
     },
     "execution_count": 85,
     "metadata": {},
     "output_type": "execute_result"
    }
   ],
   "source": [
    "# convert to uppercase\n",
    "df['name'].str.upper()"
   ]
  },
  {
   "cell_type": "code",
   "execution_count": 86,
   "id": "77bbd7ca-9a58-4e39-965d-63126de114df",
   "metadata": {},
   "outputs": [
    {
     "data": {
      "text/plain": [
       "0       RAMA\n",
       "1    KRISHNA\n",
       "2      KANHA\n",
       "3      SHYAM\n",
       "Name: name, dtype: object"
      ]
     },
     "execution_count": 86,
     "metadata": {},
     "output_type": "execute_result"
    }
   ],
   "source": [
    "df['name'].apply(func=lambda x: x.upper())"
   ]
  },
  {
   "cell_type": "code",
   "execution_count": 87,
   "id": "cf25e1e1-8fab-4a90-9857-d07c364ec872",
   "metadata": {},
   "outputs": [
    {
     "data": {
      "text/html": [
       "<div>\n",
       "<style scoped>\n",
       "    .dataframe tbody tr th:only-of-type {\n",
       "        vertical-align: middle;\n",
       "    }\n",
       "\n",
       "    .dataframe tbody tr th {\n",
       "        vertical-align: top;\n",
       "    }\n",
       "\n",
       "    .dataframe thead th {\n",
       "        text-align: right;\n",
       "    }\n",
       "</style>\n",
       "<table border=\"1\" class=\"dataframe\">\n",
       "  <thead>\n",
       "    <tr style=\"text-align: right;\">\n",
       "      <th></th>\n",
       "      <th>name</th>\n",
       "      <th>age</th>\n",
       "    </tr>\n",
       "  </thead>\n",
       "  <tbody>\n",
       "    <tr>\n",
       "      <th>1</th>\n",
       "      <td>Krishna</td>\n",
       "      <td>16</td>\n",
       "    </tr>\n",
       "    <tr>\n",
       "      <th>2</th>\n",
       "      <td>Kanha</td>\n",
       "      <td>12</td>\n",
       "    </tr>\n",
       "  </tbody>\n",
       "</table>\n",
       "</div>"
      ],
      "text/plain": [
       "      name  age\n",
       "1  Krishna   16\n",
       "2    Kanha   12"
      ]
     },
     "execution_count": 87,
     "metadata": {},
     "output_type": "execute_result"
    }
   ],
   "source": [
    "df[df['name'].str.startswith('K')]"
   ]
  },
  {
   "cell_type": "code",
   "execution_count": 88,
   "id": "69a0910d-7133-4a2b-88ba-8d0c5a462b82",
   "metadata": {},
   "outputs": [],
   "source": [
    "messy_text = pd.Series(data=['Krishna  ', ' Rama chandra', 'dumm##y'])"
   ]
  },
  {
   "cell_type": "code",
   "execution_count": 89,
   "id": "308d2bf2-f377-4123-b54d-88bae740a6e7",
   "metadata": {},
   "outputs": [
    {
     "data": {
      "text/plain": [
       "0         Krishna\n",
       "1    Rama chandra\n",
       "2           dummy\n",
       "dtype: object"
      ]
     },
     "execution_count": 89,
     "metadata": {},
     "output_type": "execute_result"
    }
   ],
   "source": [
    "messy_text.str.replace('#', '').str.strip()"
   ]
  },
  {
   "cell_type": "code",
   "execution_count": 90,
   "id": "d89b2e65-c0ed-4ba5-b703-41ad18a80d6c",
   "metadata": {},
   "outputs": [],
   "source": [
    "messy_text = messy_text.str.replace('#', '').str.strip()"
   ]
  },
  {
   "cell_type": "code",
   "execution_count": 91,
   "id": "6f20bca4-4e13-40ac-8fda-13c855c86033",
   "metadata": {},
   "outputs": [
    {
     "data": {
      "text/plain": [
       "0         Krishna\n",
       "1    Rama chandra\n",
       "2           dummy\n",
       "dtype: object"
      ]
     },
     "execution_count": 91,
     "metadata": {},
     "output_type": "execute_result"
    }
   ],
   "source": [
    "messy_text"
   ]
  },
  {
   "cell_type": "code",
   "execution_count": 93,
   "id": "d3791a1c-164e-448c-9e0b-fba4a57679fd",
   "metadata": {},
   "outputs": [],
   "source": [
    "age_str = df['age'].astype('str')"
   ]
  },
  {
   "cell_type": "code",
   "execution_count": 94,
   "id": "e77fba9a-a90a-49dc-95ab-fcb1c1a1f47c",
   "metadata": {},
   "outputs": [
    {
     "data": {
      "text/plain": [
       "0    True\n",
       "1    True\n",
       "2    True\n",
       "3    True\n",
       "Name: age, dtype: bool"
      ]
     },
     "execution_count": 94,
     "metadata": {},
     "output_type": "execute_result"
    }
   ],
   "source": [
    "age_str.str.isdigit()"
   ]
  },
  {
   "cell_type": "code",
   "execution_count": 95,
   "id": "4f29d417-ba0e-40d2-85d3-51e659ccc9cf",
   "metadata": {},
   "outputs": [
    {
     "name": "stdout",
     "output_type": "stream",
     "text": [
      "<class 'pandas.core.frame.DataFrame'>\n",
      "RangeIndex: 4 entries, 0 to 3\n",
      "Data columns (total 2 columns):\n",
      " #   Column  Non-Null Count  Dtype \n",
      "---  ------  --------------  ----- \n",
      " 0   name    4 non-null      object\n",
      " 1   age     4 non-null      int64 \n",
      "dtypes: int64(1), object(1)\n",
      "memory usage: 192.0+ bytes\n"
     ]
    }
   ],
   "source": [
    "df.info()"
   ]
  },
  {
   "cell_type": "code",
   "execution_count": 97,
   "id": "3eacbe35-371c-4546-89ba-e21690fa8b46",
   "metadata": {},
   "outputs": [],
   "source": [
    "names = ['Ram Chandra', 'Radha Rani', 'Janaki Mata', 'Shyam']"
   ]
  },
  {
   "cell_type": "code",
   "execution_count": 98,
   "id": "30ce48b6-fbb6-4c7a-acd5-aefa96a68be0",
   "metadata": {},
   "outputs": [],
   "source": [
    "places = ['Treta', 'Goloka', 'Mithila', 'Vrindavan']"
   ]
  },
  {
   "cell_type": "code",
   "execution_count": 100,
   "id": "f50d2875-18e9-4767-aac5-11d599506469",
   "metadata": {},
   "outputs": [
    {
     "data": {
      "text/plain": [
       "['Ram Chandra', 'Radha Rani', 'Janaki Mata', 'Shyam']"
      ]
     },
     "execution_count": 100,
     "metadata": {},
     "output_type": "execute_result"
    }
   ],
   "source": [
    "names"
   ]
  },
  {
   "cell_type": "code",
   "execution_count": 101,
   "id": "a037bc7e-c67e-4a7c-b5ea-55ccc93f754c",
   "metadata": {},
   "outputs": [
    {
     "data": {
      "text/plain": [
       "['Treta', 'Goloka', 'Mithila', 'Vrindavan']"
      ]
     },
     "execution_count": 101,
     "metadata": {},
     "output_type": "execute_result"
    }
   ],
   "source": [
    "places"
   ]
  },
  {
   "cell_type": "code",
   "execution_count": 103,
   "id": "3ccf8d4c-a59d-45a6-83b8-3e65f32115f2",
   "metadata": {},
   "outputs": [
    {
     "data": {
      "text/plain": [
       "{'Ram Chandra': 'Treta',\n",
       " 'Radha Rani': 'Goloka',\n",
       " 'Janaki Mata': 'Mithila',\n",
       " 'Shyam': 'Vrindavan'}"
      ]
     },
     "execution_count": 103,
     "metadata": {},
     "output_type": "execute_result"
    }
   ],
   "source": [
    "dict(zip(names, places))"
   ]
  },
  {
   "cell_type": "code",
   "execution_count": 107,
   "id": "89acc2ba-19d5-40fe-840f-0444e019a1e6",
   "metadata": {},
   "outputs": [],
   "source": [
    "df = pd.DataFrame(data=zip(names, places), columns=['names', 'places'])"
   ]
  },
  {
   "cell_type": "code",
   "execution_count": 108,
   "id": "4f66f4f7-1519-423d-8a18-e14241cd0645",
   "metadata": {},
   "outputs": [
    {
     "data": {
      "text/html": [
       "<div>\n",
       "<style scoped>\n",
       "    .dataframe tbody tr th:only-of-type {\n",
       "        vertical-align: middle;\n",
       "    }\n",
       "\n",
       "    .dataframe tbody tr th {\n",
       "        vertical-align: top;\n",
       "    }\n",
       "\n",
       "    .dataframe thead th {\n",
       "        text-align: right;\n",
       "    }\n",
       "</style>\n",
       "<table border=\"1\" class=\"dataframe\">\n",
       "  <thead>\n",
       "    <tr style=\"text-align: right;\">\n",
       "      <th></th>\n",
       "      <th>names</th>\n",
       "      <th>places</th>\n",
       "    </tr>\n",
       "  </thead>\n",
       "  <tbody>\n",
       "    <tr>\n",
       "      <th>0</th>\n",
       "      <td>Ram Chandra</td>\n",
       "      <td>Treta</td>\n",
       "    </tr>\n",
       "    <tr>\n",
       "      <th>1</th>\n",
       "      <td>Radha Rani</td>\n",
       "      <td>Goloka</td>\n",
       "    </tr>\n",
       "    <tr>\n",
       "      <th>2</th>\n",
       "      <td>Janaki Mata</td>\n",
       "      <td>Mithila</td>\n",
       "    </tr>\n",
       "    <tr>\n",
       "      <th>3</th>\n",
       "      <td>Shyam</td>\n",
       "      <td>Vrindavan</td>\n",
       "    </tr>\n",
       "  </tbody>\n",
       "</table>\n",
       "</div>"
      ],
      "text/plain": [
       "         names     places\n",
       "0  Ram Chandra      Treta\n",
       "1   Radha Rani     Goloka\n",
       "2  Janaki Mata    Mithila\n",
       "3        Shyam  Vrindavan"
      ]
     },
     "execution_count": 108,
     "metadata": {},
     "output_type": "execute_result"
    }
   ],
   "source": [
    "df"
   ]
  },
  {
   "cell_type": "code",
   "execution_count": 126,
   "id": "c6e4e4ae-f8ff-4a3e-b933-843ba156dc13",
   "metadata": {},
   "outputs": [
    {
     "data": {
      "text/plain": [
       "0    [Ram, Chandra]\n",
       "1     [Radha, Rani]\n",
       "2    [Janaki, Mata]\n",
       "3           [Shyam]\n",
       "Name: names, dtype: object"
      ]
     },
     "execution_count": 126,
     "metadata": {},
     "output_type": "execute_result"
    }
   ],
   "source": [
    "df.names.str.split()"
   ]
  },
  {
   "cell_type": "code",
   "execution_count": 130,
   "id": "2836c15a-bd7a-48c7-9ee5-90fb7bf95321",
   "metadata": {},
   "outputs": [
    {
     "data": {
      "text/plain": [
       "'Ram'"
      ]
     },
     "execution_count": 130,
     "metadata": {},
     "output_type": "execute_result"
    }
   ],
   "source": [
    "df['names'].str.split()[0][0]"
   ]
  },
  {
   "cell_type": "code",
   "execution_count": 134,
   "id": "38c71898-f84b-4d47-a3cf-c7e37bba77ee",
   "metadata": {},
   "outputs": [],
   "source": [
    "df['firstname'] = df.names.str.split().str[-1]"
   ]
  },
  {
   "cell_type": "code",
   "execution_count": 135,
   "id": "afdb3006-768d-4848-bb45-662d3eea8068",
   "metadata": {},
   "outputs": [],
   "source": [
    "df['lastname'] = df.names.str.split().str[0]"
   ]
  },
  {
   "cell_type": "code",
   "execution_count": 136,
   "id": "5e43c086-0a0e-4db3-bad0-1532feb0ec87",
   "metadata": {},
   "outputs": [
    {
     "data": {
      "text/html": [
       "<div>\n",
       "<style scoped>\n",
       "    .dataframe tbody tr th:only-of-type {\n",
       "        vertical-align: middle;\n",
       "    }\n",
       "\n",
       "    .dataframe tbody tr th {\n",
       "        vertical-align: top;\n",
       "    }\n",
       "\n",
       "    .dataframe thead th {\n",
       "        text-align: right;\n",
       "    }\n",
       "</style>\n",
       "<table border=\"1\" class=\"dataframe\">\n",
       "  <thead>\n",
       "    <tr style=\"text-align: right;\">\n",
       "      <th></th>\n",
       "      <th>names</th>\n",
       "      <th>places</th>\n",
       "      <th>firstname</th>\n",
       "      <th>lastname</th>\n",
       "    </tr>\n",
       "  </thead>\n",
       "  <tbody>\n",
       "    <tr>\n",
       "      <th>0</th>\n",
       "      <td>Ram Chandra</td>\n",
       "      <td>Treta</td>\n",
       "      <td>Chandra</td>\n",
       "      <td>Ram</td>\n",
       "    </tr>\n",
       "    <tr>\n",
       "      <th>1</th>\n",
       "      <td>Radha Rani</td>\n",
       "      <td>Goloka</td>\n",
       "      <td>Rani</td>\n",
       "      <td>Radha</td>\n",
       "    </tr>\n",
       "    <tr>\n",
       "      <th>2</th>\n",
       "      <td>Janaki Mata</td>\n",
       "      <td>Mithila</td>\n",
       "      <td>Mata</td>\n",
       "      <td>Janaki</td>\n",
       "    </tr>\n",
       "    <tr>\n",
       "      <th>3</th>\n",
       "      <td>Shyam</td>\n",
       "      <td>Vrindavan</td>\n",
       "      <td>Shyam</td>\n",
       "      <td>Shyam</td>\n",
       "    </tr>\n",
       "  </tbody>\n",
       "</table>\n",
       "</div>"
      ],
      "text/plain": [
       "         names     places firstname lastname\n",
       "0  Ram Chandra      Treta   Chandra      Ram\n",
       "1   Radha Rani     Goloka      Rani    Radha\n",
       "2  Janaki Mata    Mithila      Mata   Janaki\n",
       "3        Shyam  Vrindavan     Shyam    Shyam"
      ]
     },
     "execution_count": 136,
     "metadata": {},
     "output_type": "execute_result"
    }
   ],
   "source": [
    "df"
   ]
  },
  {
   "cell_type": "code",
   "execution_count": 139,
   "id": "f023371e-65f6-4844-8cd9-047f1ea54efa",
   "metadata": {},
   "outputs": [],
   "source": [
    "df = df.rename({'firstname':'lastname', 'lastname': 'firstname'}, axis=1)"
   ]
  },
  {
   "cell_type": "code",
   "execution_count": 140,
   "id": "1087d578-b5bc-4a71-9971-a66baeb2431b",
   "metadata": {},
   "outputs": [
    {
     "data": {
      "text/html": [
       "<div>\n",
       "<style scoped>\n",
       "    .dataframe tbody tr th:only-of-type {\n",
       "        vertical-align: middle;\n",
       "    }\n",
       "\n",
       "    .dataframe tbody tr th {\n",
       "        vertical-align: top;\n",
       "    }\n",
       "\n",
       "    .dataframe thead th {\n",
       "        text-align: right;\n",
       "    }\n",
       "</style>\n",
       "<table border=\"1\" class=\"dataframe\">\n",
       "  <thead>\n",
       "    <tr style=\"text-align: right;\">\n",
       "      <th></th>\n",
       "      <th>names</th>\n",
       "      <th>places</th>\n",
       "      <th>lastname</th>\n",
       "      <th>firstname</th>\n",
       "    </tr>\n",
       "  </thead>\n",
       "  <tbody>\n",
       "    <tr>\n",
       "      <th>0</th>\n",
       "      <td>Ram Chandra</td>\n",
       "      <td>Treta</td>\n",
       "      <td>Chandra</td>\n",
       "      <td>Ram</td>\n",
       "    </tr>\n",
       "    <tr>\n",
       "      <th>1</th>\n",
       "      <td>Radha Rani</td>\n",
       "      <td>Goloka</td>\n",
       "      <td>Rani</td>\n",
       "      <td>Radha</td>\n",
       "    </tr>\n",
       "    <tr>\n",
       "      <th>2</th>\n",
       "      <td>Janaki Mata</td>\n",
       "      <td>Mithila</td>\n",
       "      <td>Mata</td>\n",
       "      <td>Janaki</td>\n",
       "    </tr>\n",
       "    <tr>\n",
       "      <th>3</th>\n",
       "      <td>Shyam</td>\n",
       "      <td>Vrindavan</td>\n",
       "      <td>Shyam</td>\n",
       "      <td>Shyam</td>\n",
       "    </tr>\n",
       "  </tbody>\n",
       "</table>\n",
       "</div>"
      ],
      "text/plain": [
       "         names     places lastname firstname\n",
       "0  Ram Chandra      Treta  Chandra       Ram\n",
       "1   Radha Rani     Goloka     Rani     Radha\n",
       "2  Janaki Mata    Mithila     Mata    Janaki\n",
       "3        Shyam  Vrindavan    Shyam     Shyam"
      ]
     },
     "execution_count": 140,
     "metadata": {},
     "output_type": "execute_result"
    }
   ],
   "source": [
    "df"
   ]
  },
  {
   "cell_type": "code",
   "execution_count": null,
   "id": "434aa777-39ee-4df3-8124-714008505ee0",
   "metadata": {},
   "outputs": [],
   "source": []
  }
 ],
 "metadata": {
  "kernelspec": {
   "display_name": "Python 3 (ipykernel)",
   "language": "python",
   "name": "python3"
  },
  "language_info": {
   "codemirror_mode": {
    "name": "ipython",
    "version": 3
   },
   "file_extension": ".py",
   "mimetype": "text/x-python",
   "name": "python",
   "nbconvert_exporter": "python",
   "pygments_lexer": "ipython3",
   "version": "3.11.1"
  }
 },
 "nbformat": 4,
 "nbformat_minor": 5
}
