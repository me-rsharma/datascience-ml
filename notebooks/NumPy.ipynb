{
 "cells": [
  {
   "cell_type": "markdown",
   "id": "04245e40-1b30-4b94-bc74-f8f0b2cf997a",
   "metadata": {},
   "source": [
    "## Data Science & Machine Learning with Python"
   ]
  },
  {
   "cell_type": "markdown",
   "id": "ca8ef668-f7e8-489f-a7c5-00d5be540634",
   "metadata": {},
   "source": [
    "### NumPy\n",
    "\n",
    "#### What is NumPy?\n",
    "\n",
    "- Python library for creating **N-dimensional** arrays\n",
    "- Ability to quickly broadcast functions (very important feature)\n",
    "- Additionally, it has built-in features such as **linear algebra, statistical distribution, trignometric** and **random number** capabilities\n",
    "\n",
    "#### Why use NumPy?\n",
    "\n",
    "- While NumpPy structures look similar to standard **Python lists**, they are much more efficient\n",
    "- The **broadcasting** capabilities are also extremely useful for quickly applying functions to our datasets"
   ]
  },
  {
   "cell_type": "markdown",
   "id": "babf1ba1-9c37-431c-b9ef-057f57d60b05",
   "metadata": {},
   "source": [
    "### Creating NumPy Array\n",
    "\n",
    "To create NumPy array, we will be use 3 approaches:\n",
    "- By converting **Python list**\n",
    "- Using **builtin function**\n",
    "- By generating **random data**"
   ]
  },
  {
   "cell_type": "markdown",
   "id": "4499e245-c88d-4000-b82d-50221f512aa4",
   "metadata": {},
   "source": [
    "#### NumPy Arrays"
   ]
  },
  {
   "cell_type": "code",
   "execution_count": 2,
   "id": "6aa938f4-35d5-459f-afda-5c2690672ac6",
   "metadata": {},
   "outputs": [],
   "source": [
    "import numpy as np"
   ]
  },
  {
   "cell_type": "markdown",
   "id": "f837af0f-a4aa-43ca-9f69-c5bebad66a7e",
   "metadata": {},
   "source": [
    "##### 1. Creating NumPy array from Python list"
   ]
  },
  {
   "cell_type": "code",
   "execution_count": 3,
   "id": "78286308-c1f7-4fe1-bb7c-e17b949d3c68",
   "metadata": {},
   "outputs": [],
   "source": [
    "odds = [3,5,7,9,11]"
   ]
  },
  {
   "cell_type": "code",
   "execution_count": 4,
   "id": "3553db46-b209-421d-8e41-4fc4f6a5077f",
   "metadata": {},
   "outputs": [
    {
     "data": {
      "text/plain": [
       "list"
      ]
     },
     "execution_count": 4,
     "metadata": {},
     "output_type": "execute_result"
    }
   ],
   "source": [
    "type(odds)"
   ]
  },
  {
   "cell_type": "code",
   "execution_count": 5,
   "id": "e67aa375-ffe6-4a98-9fe8-94b0330ef5a8",
   "metadata": {},
   "outputs": [
    {
     "data": {
      "text/plain": [
       "array([ 3,  5,  7,  9, 11])"
      ]
     },
     "execution_count": 5,
     "metadata": {},
     "output_type": "execute_result"
    }
   ],
   "source": [
    "np.array(odds)"
   ]
  },
  {
   "cell_type": "code",
   "execution_count": 6,
   "id": "ca62d9e4-6d6f-4725-a416-567dc77296fc",
   "metadata": {},
   "outputs": [
    {
     "data": {
      "text/plain": [
       "numpy.ndarray"
      ]
     },
     "execution_count": 6,
     "metadata": {},
     "output_type": "execute_result"
    }
   ],
   "source": [
    "type(np.array(odds))"
   ]
  },
  {
   "cell_type": "code",
   "execution_count": 7,
   "id": "d1454cb5-36e3-444c-8406-2dffd309a6ef",
   "metadata": {},
   "outputs": [],
   "source": [
    "# matrix\n",
    "nested_list = [[3,4,5], [6,7,8], [12,11,13]]"
   ]
  },
  {
   "cell_type": "code",
   "execution_count": 8,
   "id": "201780ff-c5b8-41f9-bfa6-f61aa2453d83",
   "metadata": {},
   "outputs": [
    {
     "data": {
      "text/plain": [
       "list"
      ]
     },
     "execution_count": 8,
     "metadata": {},
     "output_type": "execute_result"
    }
   ],
   "source": [
    "type(nested_list)"
   ]
  },
  {
   "cell_type": "code",
   "execution_count": 9,
   "id": "273d4af1-269a-4e1f-b404-0911aa9a453a",
   "metadata": {},
   "outputs": [
    {
     "data": {
      "text/plain": [
       "array([[ 3,  4,  5],\n",
       "       [ 6,  7,  8],\n",
       "       [12, 11, 13]])"
      ]
     },
     "execution_count": 9,
     "metadata": {},
     "output_type": "execute_result"
    }
   ],
   "source": [
    "np.array(nested_list)"
   ]
  },
  {
   "cell_type": "code",
   "execution_count": 10,
   "id": "9cc7f4e7-4971-4b9d-ba17-02f410196773",
   "metadata": {},
   "outputs": [
    {
     "data": {
      "text/plain": [
       "numpy.ndarray"
      ]
     },
     "execution_count": 10,
     "metadata": {},
     "output_type": "execute_result"
    }
   ],
   "source": [
    "type(np.array(nested_list))"
   ]
  },
  {
   "cell_type": "markdown",
   "id": "5d091d89-f076-4271-a13b-713585a52282",
   "metadata": {},
   "source": [
    "##### 2. Creating NumPy array using builtin functions"
   ]
  },
  {
   "cell_type": "code",
   "execution_count": 11,
   "id": "96ea1109-ff07-4591-be80-0086fa7b420c",
   "metadata": {},
   "outputs": [
    {
     "data": {
      "text/plain": [
       "array([0, 1, 2, 3, 4, 5, 6, 7, 8, 9])"
      ]
     },
     "execution_count": 11,
     "metadata": {},
     "output_type": "execute_result"
    }
   ],
   "source": [
    "# arange - similar to range() function used for creating list\n",
    "np.arange(10) # 1D narray"
   ]
  },
  {
   "cell_type": "code",
   "execution_count": 12,
   "id": "31f49634-a65a-4d23-a082-27ece43a23c9",
   "metadata": {},
   "outputs": [
    {
     "data": {
      "text/plain": [
       "array([10, 11, 12, 13, 14, 15, 16, 17, 18, 19, 20, 21, 22, 23, 24, 25, 26,\n",
       "       27, 28, 29])"
      ]
     },
     "execution_count": 12,
     "metadata": {},
     "output_type": "execute_result"
    }
   ],
   "source": [
    "np.arange(10,30)"
   ]
  },
  {
   "cell_type": "code",
   "execution_count": 13,
   "id": "7bdac21a-0930-4b15-a274-ee52791f381a",
   "metadata": {},
   "outputs": [
    {
     "data": {
      "text/plain": [
       "array([10, 12, 14, 16, 18, 20, 22, 24, 26, 28])"
      ]
     },
     "execution_count": 13,
     "metadata": {},
     "output_type": "execute_result"
    }
   ],
   "source": [
    "np.arange(10,30,2)"
   ]
  },
  {
   "cell_type": "code",
   "execution_count": 14,
   "id": "4736c82b-69ca-46a3-af58-721a1b869fbe",
   "metadata": {},
   "outputs": [
    {
     "data": {
      "text/plain": [
       "array([0., 0., 0., 0., 0., 0., 0., 0., 0., 0.])"
      ]
     },
     "execution_count": 14,
     "metadata": {},
     "output_type": "execute_result"
    }
   ],
   "source": [
    "# to create only array with zeros and ones\n",
    "np.zeros(10)"
   ]
  },
  {
   "cell_type": "code",
   "execution_count": 15,
   "id": "a5773eaa-62cb-4f15-9a3e-fc13afa00a45",
   "metadata": {},
   "outputs": [
    {
     "data": {
      "text/plain": [
       "array([[0., 0., 0., 0.],\n",
       "       [0., 0., 0., 0.]])"
      ]
     },
     "execution_count": 15,
     "metadata": {},
     "output_type": "execute_result"
    }
   ],
   "source": [
    "np.zeros((2,4))"
   ]
  },
  {
   "cell_type": "code",
   "execution_count": 16,
   "id": "9a0b6da9-7eb6-4de3-89da-a83d005738c9",
   "metadata": {},
   "outputs": [
    {
     "data": {
      "text/plain": [
       "array([1., 1., 1., 1., 1., 1., 1., 1., 1., 1.])"
      ]
     },
     "execution_count": 16,
     "metadata": {},
     "output_type": "execute_result"
    }
   ],
   "source": [
    "np.ones(10)"
   ]
  },
  {
   "cell_type": "code",
   "execution_count": 17,
   "id": "2814755d-8789-4cef-9155-443ed2b92969",
   "metadata": {},
   "outputs": [
    {
     "data": {
      "text/plain": [
       "array([[1., 1., 1., 1., 1., 1.],\n",
       "       [1., 1., 1., 1., 1., 1.],\n",
       "       [1., 1., 1., 1., 1., 1.],\n",
       "       [1., 1., 1., 1., 1., 1.]])"
      ]
     },
     "execution_count": 17,
     "metadata": {},
     "output_type": "execute_result"
    }
   ],
   "source": [
    "np.ones((4,6))"
   ]
  },
  {
   "cell_type": "code",
   "execution_count": 18,
   "id": "096f1bc5-6650-4326-85c9-4164c307a27a",
   "metadata": {},
   "outputs": [
    {
     "data": {
      "text/plain": [
       "array([ 2.,  8., 14., 20.])"
      ]
     },
     "execution_count": 18,
     "metadata": {},
     "output_type": "execute_result"
    }
   ],
   "source": [
    "# using linspace() - returns evenly space numbers\n",
    "np.linspace(start=2, stop=20, num=4) # num- how many numbers between start and stop"
   ]
  },
  {
   "cell_type": "code",
   "execution_count": 19,
   "id": "c5efee56-1900-4126-a1d9-c0e114f71171",
   "metadata": {},
   "outputs": [
    {
     "data": {
      "text/plain": [
       "array([ 2.        ,  3.14285714,  4.28571429,  5.42857143,  6.57142857,\n",
       "        7.71428571,  8.85714286, 10.        ])"
      ]
     },
     "execution_count": 19,
     "metadata": {},
     "output_type": "execute_result"
    }
   ],
   "source": [
    "np.linspace(start=2, stop=10, num=8)"
   ]
  },
  {
   "cell_type": "code",
   "execution_count": 20,
   "id": "246adb8a-767b-41ca-b42e-f47d081be4e0",
   "metadata": {},
   "outputs": [
    {
     "data": {
      "text/plain": [
       "array([[1., 0., 0., 0., 0.],\n",
       "       [0., 1., 0., 0., 0.],\n",
       "       [0., 0., 1., 0., 0.],\n",
       "       [0., 0., 0., 1., 0.],\n",
       "       [0., 0., 0., 0., 1.]])"
      ]
     },
     "execution_count": 20,
     "metadata": {},
     "output_type": "execute_result"
    }
   ],
   "source": [
    "# creating identity matrix\n",
    "np.eye(N=5) # pass only rows as indentity matrix is always a square matrix"
   ]
  },
  {
   "cell_type": "code",
   "execution_count": 21,
   "id": "0560ea33-385c-4c2a-a16a-5abfd702a564",
   "metadata": {},
   "outputs": [
    {
     "data": {
      "text/plain": [
       "array([[1., 0., 0.],\n",
       "       [0., 1., 0.],\n",
       "       [0., 0., 1.]])"
      ]
     },
     "execution_count": 21,
     "metadata": {},
     "output_type": "execute_result"
    }
   ],
   "source": [
    "np.eye(N=3)"
   ]
  },
  {
   "cell_type": "markdown",
   "id": "87e0a34f-d84a-46d2-b7f0-9884f3c61283",
   "metadata": {},
   "source": [
    "##### 3. Creating NumPy array using random data"
   ]
  },
  {
   "cell_type": "code",
   "execution_count": 22,
   "id": "022c23e6-12a6-4a50-b65e-5cf0c6fa6353",
   "metadata": {},
   "outputs": [
    {
     "data": {
      "text/plain": [
       "0.5008148546738406"
      ]
     },
     "execution_count": 22,
     "metadata": {},
     "output_type": "execute_result"
    }
   ],
   "source": [
    "np.random.rand()"
   ]
  },
  {
   "cell_type": "code",
   "execution_count": 23,
   "id": "f1ee23fc-59e2-46c7-83e1-a6d167ae10f8",
   "metadata": {},
   "outputs": [
    {
     "data": {
      "text/plain": [
       "array([0.58831398, 0.54183823, 0.71882551, 0.60744951, 0.47158603,\n",
       "       0.70799084])"
      ]
     },
     "execution_count": 23,
     "metadata": {},
     "output_type": "execute_result"
    }
   ],
   "source": [
    "np.random.rand(6) # returns uniformly distributed number - means the likelihood of all the number is same for being return"
   ]
  },
  {
   "cell_type": "code",
   "execution_count": 24,
   "id": "c913ebe4-059c-4cc5-84d4-eba600668443",
   "metadata": {},
   "outputs": [
    {
     "data": {
      "text/plain": [
       "array([[0.34430774, 0.38737637, 0.19877082, 0.7387462 ],\n",
       "       [0.44264025, 0.70890696, 0.20230064, 0.6091025 ],\n",
       "       [0.49257852, 0.63599466, 0.38044391, 0.42376235]])"
      ]
     },
     "execution_count": 24,
     "metadata": {},
     "output_type": "execute_result"
    }
   ],
   "source": [
    "np.random.rand(3,4)"
   ]
  },
  {
   "cell_type": "markdown",
   "id": "5f1da5e4-9d1e-4732-b4cf-aa6c822c61a8",
   "metadata": {},
   "source": [
    "<span style=\"background-color:#ef476f; padding:2px; color:white\">IMPORTANT</span>:  `rand()`  returns **uniformly distributed** numbers but in real-world the things are normally distributed (_means the mean is 0 and variance is 1 and the numbers close to 0 has maximum likelihood of being selected_) and to get the **normally distributed** random data we can use `randn()` "
   ]
  },
  {
   "cell_type": "code",
   "execution_count": 25,
   "id": "a0590f4d-652e-4952-b6d5-352ee7f222b5",
   "metadata": {},
   "outputs": [
    {
     "data": {
      "text/plain": [
       "-2.231076600107631"
      ]
     },
     "execution_count": 25,
     "metadata": {},
     "output_type": "execute_result"
    }
   ],
   "source": [
    "np.random.randn()"
   ]
  },
  {
   "cell_type": "code",
   "execution_count": 26,
   "id": "e0d6d03a-7aa4-44c5-a48b-47a69650f234",
   "metadata": {},
   "outputs": [
    {
     "data": {
      "text/plain": [
       "array([ 0.71441917,  1.09015777, -0.48941241, -1.61433748, -0.80599052,\n",
       "        0.18813664, -1.06217399, -0.09246208, -1.87404165, -0.39574369])"
      ]
     },
     "execution_count": 26,
     "metadata": {},
     "output_type": "execute_result"
    }
   ],
   "source": [
    "np.random.randn(10) # randn() will always return numbers having mean - 0 and variance of 1/-1"
   ]
  },
  {
   "cell_type": "code",
   "execution_count": 27,
   "id": "7fef15ea-d5f4-4036-a71d-6c3b5e1dfe1c",
   "metadata": {},
   "outputs": [
    {
     "data": {
      "text/plain": [
       "array([[ 0.1381527 ,  0.35514677,  0.40476011, -0.56237791],\n",
       "       [-0.00700396, -0.73403696,  0.03874749, -0.13674494],\n",
       "       [-1.12723352, -0.00286018, -0.11523327,  0.14360929]])"
      ]
     },
     "execution_count": 27,
     "metadata": {},
     "output_type": "execute_result"
    }
   ],
   "source": [
    "np.random.randn(3,4)"
   ]
  },
  {
   "cell_type": "markdown",
   "id": "6ea71822-9d96-49ca-a537-53e79f12b74a",
   "metadata": {},
   "source": [
    "Every time we run the above code, we will be getting the random values. But what if we want to generate the same random values every time. We can use `seed()`"
   ]
  },
  {
   "cell_type": "code",
   "execution_count": 28,
   "id": "e3684e02-2e04-4883-a9b2-3b385f4975f7",
   "metadata": {},
   "outputs": [
    {
     "data": {
      "text/plain": [
       "array([ 0.49671415, -0.1382643 ,  0.64768854,  1.52302986, -0.23415337,\n",
       "       -0.23413696,  1.57921282,  0.76743473, -0.46947439,  0.54256004])"
      ]
     },
     "execution_count": 28,
     "metadata": {},
     "output_type": "execute_result"
    }
   ],
   "source": [
    "np.random.seed(seed=42)\n",
    "np.random.randn(10)"
   ]
  },
  {
   "cell_type": "code",
   "execution_count": 29,
   "id": "c1f26fd1-36f7-4ecf-b054-e5d6fcce0ae5",
   "metadata": {},
   "outputs": [
    {
     "data": {
      "text/plain": [
       "array([ 0.49671415, -0.1382643 ,  0.64768854,  1.52302986, -0.23415337,\n",
       "       -0.23413696,  1.57921282,  0.76743473, -0.46947439,  0.54256004])"
      ]
     },
     "execution_count": 29,
     "metadata": {},
     "output_type": "execute_result"
    }
   ],
   "source": [
    "np.random.seed(seed=42)\n",
    "np.random.randn(10)"
   ]
  },
  {
   "cell_type": "markdown",
   "id": "b10eb56d-9ccc-4873-9c72-9a2c2a984aa6",
   "metadata": {},
   "source": [
    "<span style=\"background-color:#ef476f; padding:2px; color:white\">IMPORTANT</span>: `seed()` and `rand()` call must be done in same cell"
   ]
  },
  {
   "cell_type": "code",
   "execution_count": 30,
   "id": "f5f60c7a-cb08-4499-b8a5-6b2c9e6b4afb",
   "metadata": {},
   "outputs": [
    {
     "data": {
      "text/plain": [
       "array([0.18182497, 0.18340451, 0.30424224, 0.52475643, 0.43194502,\n",
       "       0.29122914, 0.61185289, 0.13949386, 0.29214465, 0.36636184])"
      ]
     },
     "execution_count": 30,
     "metadata": {},
     "output_type": "execute_result"
    }
   ],
   "source": [
    "np.random.rand(10) # getting different values"
   ]
  },
  {
   "cell_type": "code",
   "execution_count": 31,
   "id": "7b629c30-149d-45a4-a52b-65798ced457c",
   "metadata": {},
   "outputs": [
    {
     "data": {
      "text/plain": [
       "array([[-0.59628572, -0.60541841,  0.45677764, -0.62321992],\n",
       "       [ 0.69353865, -1.15210757, -1.58241937,  1.80185075],\n",
       "       [-0.04329378,  1.16352901,  0.65732046, -0.4792346 ]])"
      ]
     },
     "execution_count": 31,
     "metadata": {},
     "output_type": "execute_result"
    }
   ],
   "source": [
    "np.random.seed(seed=86)\n",
    "np.random.randn(3,4)"
   ]
  },
  {
   "cell_type": "code",
   "execution_count": 32,
   "id": "86a8ef87-ace7-4f05-8bfa-4834c7b696a8",
   "metadata": {},
   "outputs": [
    {
     "data": {
      "text/plain": [
       "array([[-0.59628572, -0.60541841,  0.45677764, -0.62321992],\n",
       "       [ 0.69353865, -1.15210757, -1.58241937,  1.80185075],\n",
       "       [-0.04329378,  1.16352901,  0.65732046, -0.4792346 ]])"
      ]
     },
     "execution_count": 32,
     "metadata": {},
     "output_type": "execute_result"
    }
   ],
   "source": [
    "np.random.seed(seed=86)\n",
    "np.random.randn(3,4)"
   ]
  },
  {
   "cell_type": "markdown",
   "id": "e5b06c13-cab3-4ecb-8176-1db65eb2cec6",
   "metadata": {},
   "source": [
    "`rand()` and `randn()` returns the floating point numbers but if we have to return integers than we can use `randint()` whihc returns uniformaly distributed (each number will have same likelihood of being selected) numbers"
   ]
  },
  {
   "cell_type": "code",
   "execution_count": 33,
   "id": "1af25ff3-c2f2-4ee6-baf5-c7bc20c1e7c9",
   "metadata": {},
   "outputs": [
    {
     "data": {
      "text/plain": [
       "8"
      ]
     },
     "execution_count": 33,
     "metadata": {},
     "output_type": "execute_result"
    }
   ],
   "source": [
    "np.random.randint(low=2, high=10)"
   ]
  },
  {
   "cell_type": "code",
   "execution_count": 34,
   "id": "586f25c3-d6ab-443b-8dee-bc07d5b7bc6e",
   "metadata": {},
   "outputs": [
    {
     "data": {
      "text/plain": [
       "array([4, 6, 3, 2, 9, 7])"
      ]
     },
     "execution_count": 34,
     "metadata": {},
     "output_type": "execute_result"
    }
   ],
   "source": [
    "np.random.randint(low=2, high=10, size=6)"
   ]
  },
  {
   "cell_type": "code",
   "execution_count": 35,
   "id": "0706c0db-44d4-4cfd-92b6-ca0c8364671e",
   "metadata": {},
   "outputs": [
    {
     "data": {
      "text/plain": [
       "array([18, 26, 50, 69, 68, 24,  4, 43, 45, 51, 14, 28, 15,  7, 33, 29])"
      ]
     },
     "execution_count": 35,
     "metadata": {},
     "output_type": "execute_result"
    }
   ],
   "source": [
    "np.random.randint(low=2, high=80, size=16)"
   ]
  },
  {
   "cell_type": "code",
   "execution_count": 36,
   "id": "1d15b4dc-87ca-4863-8fec-1119ce21a806",
   "metadata": {},
   "outputs": [
    {
     "data": {
      "text/plain": [
       "array([8, 5, 9, 6])"
      ]
     },
     "execution_count": 36,
     "metadata": {},
     "output_type": "execute_result"
    }
   ],
   "source": [
    "np.random.seed(42)\n",
    "np.random.randint(low=2, high=12, size=4)"
   ]
  },
  {
   "cell_type": "code",
   "execution_count": 37,
   "id": "9e493926-8096-4a65-a2c4-1658828549d3",
   "metadata": {},
   "outputs": [
    {
     "data": {
      "text/plain": [
       "array([8, 5, 9, 6])"
      ]
     },
     "execution_count": 37,
     "metadata": {},
     "output_type": "execute_result"
    }
   ],
   "source": [
    "np.random.seed(42)\n",
    "np.random.randint(low=2, high=12, size=4)"
   ]
  },
  {
   "cell_type": "markdown",
   "id": "5151cadd-a69f-44a2-83b9-7303327e05e7",
   "metadata": {},
   "source": [
    "<span style=\"background-color:#ef476f; padding:2px; color:white\">Significance of 42</span>: https://www.techtarget.com/whatis/definition/42-h2g2-meaning-of-life-The-Hitchhikers-Guide-to-the-Galaxy"
   ]
  },
  {
   "cell_type": "markdown",
   "id": "7fb9aebf-00ef-400f-9463-d18d16fad952",
   "metadata": {},
   "source": [
    "##### 4. NumPy methods and properties"
   ]
  },
  {
   "cell_type": "code",
   "execution_count": 38,
   "id": "270808b6-f947-4d40-ab36-bd180a83bffa",
   "metadata": {},
   "outputs": [],
   "source": [
    "# reshape()\n",
    "narr = np.arange(0,20)"
   ]
  },
  {
   "cell_type": "code",
   "execution_count": 39,
   "id": "14a79fcc-9a25-40a0-84cf-287bc7d798cc",
   "metadata": {},
   "outputs": [
    {
     "data": {
      "text/plain": [
       "array([ 0,  1,  2,  3,  4,  5,  6,  7,  8,  9, 10, 11, 12, 13, 14, 15, 16,\n",
       "       17, 18, 19])"
      ]
     },
     "execution_count": 39,
     "metadata": {},
     "output_type": "execute_result"
    }
   ],
   "source": [
    "narr"
   ]
  },
  {
   "cell_type": "code",
   "execution_count": 40,
   "id": "8749d597-9a5f-4ad0-a5ea-0f6a9bff1e12",
   "metadata": {},
   "outputs": [
    {
     "data": {
      "text/plain": [
       "array([[ 0,  1,  2,  3,  4,  5,  6,  7,  8,  9],\n",
       "       [10, 11, 12, 13, 14, 15, 16, 17, 18, 19]])"
      ]
     },
     "execution_count": 40,
     "metadata": {},
     "output_type": "execute_result"
    }
   ],
   "source": [
    "narr.reshape(2,10)"
   ]
  },
  {
   "cell_type": "code",
   "execution_count": 41,
   "id": "3d89cd07-7065-4e92-88ac-3863bb647b36",
   "metadata": {},
   "outputs": [
    {
     "data": {
      "text/plain": [
       "array([[ 0,  1,  2,  3,  4],\n",
       "       [ 5,  6,  7,  8,  9],\n",
       "       [10, 11, 12, 13, 14],\n",
       "       [15, 16, 17, 18, 19]])"
      ]
     },
     "execution_count": 41,
     "metadata": {},
     "output_type": "execute_result"
    }
   ],
   "source": [
    "narr.reshape(4,5)"
   ]
  },
  {
   "cell_type": "code",
   "execution_count": 42,
   "id": "1621da23-231f-4d70-a813-49413b1b49d7",
   "metadata": {},
   "outputs": [
    {
     "data": {
      "text/plain": [
       "array([[ 0,  1,  2,  3],\n",
       "       [ 4,  5,  6,  7],\n",
       "       [ 8,  9, 10, 11],\n",
       "       [12, 13, 14, 15],\n",
       "       [16, 17, 18, 19]])"
      ]
     },
     "execution_count": 42,
     "metadata": {},
     "output_type": "execute_result"
    }
   ],
   "source": [
    "narr.reshape(5,4)"
   ]
  },
  {
   "cell_type": "markdown",
   "id": "fc381c4a-1a66-4139-b006-8382384fbd86",
   "metadata": {},
   "source": [
    "<span style=\"background-color:#ef476f; padding:2px; color:white\">IMPORTANT</span>: We can pass only values such as 2x10, 4x5, 5x4, 10x2, 1x20, 20x1 which ends up in size of narr ie. 20 after multiplying"
   ]
  },
  {
   "cell_type": "code",
   "execution_count": 43,
   "id": "16b6a75f-2b47-444f-aa31-ca7a9750c466",
   "metadata": {},
   "outputs": [
    {
     "data": {
      "text/plain": [
       "array([[ 0,  1,  2,  3,  4,  5,  6,  7,  8,  9, 10, 11, 12, 13, 14, 15,\n",
       "        16, 17, 18, 19]])"
      ]
     },
     "execution_count": 43,
     "metadata": {},
     "output_type": "execute_result"
    }
   ],
   "source": [
    "narr.reshape(1,20)"
   ]
  },
  {
   "cell_type": "code",
   "execution_count": 44,
   "id": "969f7040-8dba-412d-a403-d72a3be313d0",
   "metadata": {},
   "outputs": [
    {
     "data": {
      "text/plain": [
       "array([[ 0],\n",
       "       [ 1],\n",
       "       [ 2],\n",
       "       [ 3],\n",
       "       [ 4],\n",
       "       [ 5],\n",
       "       [ 6],\n",
       "       [ 7],\n",
       "       [ 8],\n",
       "       [ 9],\n",
       "       [10],\n",
       "       [11],\n",
       "       [12],\n",
       "       [13],\n",
       "       [14],\n",
       "       [15],\n",
       "       [16],\n",
       "       [17],\n",
       "       [18],\n",
       "       [19]])"
      ]
     },
     "execution_count": 44,
     "metadata": {},
     "output_type": "execute_result"
    }
   ],
   "source": [
    "narr.reshape(20,1)"
   ]
  },
  {
   "cell_type": "code",
   "execution_count": 45,
   "id": "15914a91-572d-44fa-be39-ed844595129e",
   "metadata": {},
   "outputs": [],
   "source": [
    "narrint = np.random.randint(low=4, high=24, size=8)"
   ]
  },
  {
   "cell_type": "code",
   "execution_count": 46,
   "id": "149857a0-ef48-4541-88a9-072599d39c44",
   "metadata": {},
   "outputs": [
    {
     "data": {
      "text/plain": [
       "np.int64(22)"
      ]
     },
     "execution_count": 46,
     "metadata": {},
     "output_type": "execute_result"
    }
   ],
   "source": [
    "# max() & min()\n",
    "narrint.max()"
   ]
  },
  {
   "cell_type": "markdown",
   "id": "43b7bae5-4d85-4429-a802-67880f2e59dd",
   "metadata": {},
   "source": [
    "To find the index of max element and min element"
   ]
  },
  {
   "cell_type": "code",
   "execution_count": 47,
   "id": "c2cafb5e-7cd5-48f8-bfcc-722f7ddb48ce",
   "metadata": {},
   "outputs": [
    {
     "data": {
      "text/plain": [
       "np.int64(1)"
      ]
     },
     "execution_count": 47,
     "metadata": {},
     "output_type": "execute_result"
    }
   ],
   "source": [
    "narrint.argmax()"
   ]
  },
  {
   "cell_type": "code",
   "execution_count": 48,
   "id": "c6658168-929b-4f1a-975f-1f2d111671c1",
   "metadata": {},
   "outputs": [
    {
     "data": {
      "text/plain": [
       "np.int64(7)"
      ]
     },
     "execution_count": 48,
     "metadata": {},
     "output_type": "execute_result"
    }
   ],
   "source": [
    "narrint.argmin()"
   ]
  },
  {
   "cell_type": "code",
   "execution_count": 49,
   "id": "d83ad9f5-92d1-4156-b2a8-510290b9cc40",
   "metadata": {},
   "outputs": [
    {
     "data": {
      "text/plain": [
       "np.int64(5)"
      ]
     },
     "execution_count": 49,
     "metadata": {},
     "output_type": "execute_result"
    }
   ],
   "source": [
    "narrint.min()"
   ]
  },
  {
   "cell_type": "code",
   "execution_count": 50,
   "id": "570b3ea6-3a7b-4dd7-9f89-2dd637d96077",
   "metadata": {},
   "outputs": [
    {
     "data": {
      "text/plain": [
       "(8,)"
      ]
     },
     "execution_count": 50,
     "metadata": {},
     "output_type": "execute_result"
    }
   ],
   "source": [
    "narrint.shape"
   ]
  },
  {
   "cell_type": "code",
   "execution_count": 51,
   "id": "dd6821b2-4c84-4dd3-b848-943168bec435",
   "metadata": {},
   "outputs": [
    {
     "data": {
      "text/plain": [
       "dtype('int64')"
      ]
     },
     "execution_count": 51,
     "metadata": {},
     "output_type": "execute_result"
    }
   ],
   "source": [
    "narrint.dtype"
   ]
  },
  {
   "cell_type": "markdown",
   "id": "f79ee54f-f424-46b7-9a3b-e799ee122c97",
   "metadata": {},
   "source": [
    "### NumPy: Indexing & Selection\n",
    "\n",
    "- Grabbing single element\n",
    "- Grabbing a slice of elements\n",
    "- Broadcasting selections\n",
    "- Indexing and selection in 2D\n",
    "- Conditional Selection"
   ]
  },
  {
   "cell_type": "code",
   "execution_count": 52,
   "id": "0d6c0dc8-8f69-4509-aa6c-7fe1c4231ddb",
   "metadata": {},
   "outputs": [],
   "source": [
    "import numpy as np"
   ]
  },
  {
   "cell_type": "code",
   "execution_count": 53,
   "id": "912c72bd-53da-40a1-9d2d-445b2f50fdfa",
   "metadata": {},
   "outputs": [],
   "source": [
    "narr = np.arange(start=2, stop=14)"
   ]
  },
  {
   "cell_type": "code",
   "execution_count": 54,
   "id": "7eb33ab7-3003-4f60-ae40-e12b4048ea41",
   "metadata": {},
   "outputs": [
    {
     "data": {
      "text/plain": [
       "array([ 2,  3,  4,  5,  6,  7,  8,  9, 10, 11, 12, 13])"
      ]
     },
     "execution_count": 54,
     "metadata": {},
     "output_type": "execute_result"
    }
   ],
   "source": [
    "narr"
   ]
  },
  {
   "cell_type": "markdown",
   "id": "484eca2e-b455-4ff7-9100-31bac0fd40dc",
   "metadata": {},
   "source": [
    "##### 1. Grabbing single element"
   ]
  },
  {
   "cell_type": "code",
   "execution_count": 55,
   "id": "972fe94d-2af1-465a-81a5-7ce98ec9c359",
   "metadata": {},
   "outputs": [
    {
     "data": {
      "text/plain": [
       "np.int64(5)"
      ]
     },
     "execution_count": 55,
     "metadata": {},
     "output_type": "execute_result"
    }
   ],
   "source": [
    "narr[3]"
   ]
  },
  {
   "cell_type": "code",
   "execution_count": 56,
   "id": "b7d63a50-e965-48c2-b90a-2615a7e9758e",
   "metadata": {},
   "outputs": [
    {
     "data": {
      "text/plain": [
       "np.int64(13)"
      ]
     },
     "execution_count": 56,
     "metadata": {},
     "output_type": "execute_result"
    }
   ],
   "source": [
    "narr[-1]"
   ]
  },
  {
   "cell_type": "code",
   "execution_count": 57,
   "id": "6f256100-0a45-4cd5-9369-0d6532108968",
   "metadata": {},
   "outputs": [
    {
     "data": {
      "text/plain": [
       "np.int64(2)"
      ]
     },
     "execution_count": 57,
     "metadata": {},
     "output_type": "execute_result"
    }
   ],
   "source": [
    "narr[0]"
   ]
  },
  {
   "cell_type": "markdown",
   "id": "6edd6b77-a742-460b-9031-2c344b2ff851",
   "metadata": {},
   "source": [
    "##### 2. Grabbing slice of elements"
   ]
  },
  {
   "cell_type": "code",
   "execution_count": 58,
   "id": "b8406026-3f71-442e-abf7-5e1dec9a9df4",
   "metadata": {},
   "outputs": [
    {
     "data": {
      "text/plain": [
       "array([2, 3, 4, 5])"
      ]
     },
     "execution_count": 58,
     "metadata": {},
     "output_type": "execute_result"
    }
   ],
   "source": [
    "narr[:4]"
   ]
  },
  {
   "cell_type": "code",
   "execution_count": 59,
   "id": "9da32b06-91b2-48e0-99c1-af035ac26325",
   "metadata": {},
   "outputs": [
    {
     "data": {
      "text/plain": [
       "array([ 4,  5,  6,  7,  8,  9, 10, 11, 12, 13])"
      ]
     },
     "execution_count": 59,
     "metadata": {},
     "output_type": "execute_result"
    }
   ],
   "source": [
    "narr[2:]"
   ]
  },
  {
   "cell_type": "code",
   "execution_count": 60,
   "id": "add96293-671f-482c-8579-434253bf72f4",
   "metadata": {},
   "outputs": [
    {
     "data": {
      "text/plain": [
       "array([6, 7, 8, 9])"
      ]
     },
     "execution_count": 60,
     "metadata": {},
     "output_type": "execute_result"
    }
   ],
   "source": [
    "narr[4:8]"
   ]
  },
  {
   "cell_type": "code",
   "execution_count": 61,
   "id": "e87a257d-5f4f-4f75-b732-43da163dfc2e",
   "metadata": {},
   "outputs": [
    {
     "data": {
      "text/plain": [
       "array([ 2,  4,  6,  8, 10, 12])"
      ]
     },
     "execution_count": 61,
     "metadata": {},
     "output_type": "execute_result"
    }
   ],
   "source": [
    "narr[::2]"
   ]
  },
  {
   "cell_type": "code",
   "execution_count": 62,
   "id": "6192ea32-7771-49f5-aeeb-e634a9bcde29",
   "metadata": {},
   "outputs": [
    {
     "data": {
      "text/plain": [
       "array([13, 12, 11, 10,  9,  8,  7,  6,  5,  4,  3,  2])"
      ]
     },
     "execution_count": 62,
     "metadata": {},
     "output_type": "execute_result"
    }
   ],
   "source": [
    "narr[::-1]"
   ]
  },
  {
   "cell_type": "code",
   "execution_count": 63,
   "id": "2b385c87-49a5-4284-9da5-e1fd8ebd9f0c",
   "metadata": {},
   "outputs": [
    {
     "data": {
      "text/plain": [
       "array([4, 6, 9])"
      ]
     },
     "execution_count": 63,
     "metadata": {},
     "output_type": "execute_result"
    }
   ],
   "source": [
    "narr[[2,4,7]]"
   ]
  },
  {
   "cell_type": "code",
   "execution_count": 64,
   "id": "2e284fef-7e13-445b-89d8-b21c7e5e5c31",
   "metadata": {},
   "outputs": [
    {
     "data": {
      "text/plain": [
       "array([ 2,  3,  4,  5,  6,  7,  8,  9, 10, 11, 12, 13])"
      ]
     },
     "execution_count": 64,
     "metadata": {},
     "output_type": "execute_result"
    }
   ],
   "source": [
    "narr[:]"
   ]
  },
  {
   "cell_type": "markdown",
   "id": "faad6d5e-70a9-4ba0-a07f-9cb0d7950486",
   "metadata": {},
   "source": [
    "##### 3. Broadcasting Operation"
   ]
  },
  {
   "cell_type": "code",
   "execution_count": 65,
   "id": "6e3884fd-373e-461d-8427-e82c421b7960",
   "metadata": {},
   "outputs": [
    {
     "data": {
      "text/plain": [
       "[1, 2, 1, 2]"
      ]
     },
     "execution_count": 65,
     "metadata": {},
     "output_type": "execute_result"
    }
   ],
   "source": [
    "# In Python list, we do not have broadcasting operation but in numpy array we have\n",
    "[1, 2] * 2"
   ]
  },
  {
   "cell_type": "code",
   "execution_count": 66,
   "id": "44eae1a0-f838-4220-b0ba-1de4b4a69caf",
   "metadata": {},
   "outputs": [
    {
     "data": {
      "text/plain": [
       "array([0, 1, 2, 3, 4, 5, 6, 7, 8, 9])"
      ]
     },
     "execution_count": 66,
     "metadata": {},
     "output_type": "execute_result"
    }
   ],
   "source": [
    "np.arange(10)"
   ]
  },
  {
   "cell_type": "code",
   "execution_count": 67,
   "id": "81725c97-a097-428e-8a9b-714d7f89aebb",
   "metadata": {},
   "outputs": [
    {
     "data": {
      "text/plain": [
       "array([ 0,  2,  4,  6,  8, 10, 12, 14, 16, 18])"
      ]
     },
     "execution_count": 67,
     "metadata": {},
     "output_type": "execute_result"
    }
   ],
   "source": [
    "np.arange(10) * 2"
   ]
  },
  {
   "cell_type": "code",
   "execution_count": 68,
   "id": "2b05b1b0-64f2-46fc-9dc3-5e6294adfd00",
   "metadata": {},
   "outputs": [],
   "source": [
    "np.random.seed(seed=42)\n",
    "narr = np.random.randint(low=4, high=16, size=6)"
   ]
  },
  {
   "cell_type": "code",
   "execution_count": 69,
   "id": "b4e30e1b-6a79-4418-80f6-e82841104d22",
   "metadata": {},
   "outputs": [
    {
     "data": {
      "text/plain": [
       "array([10,  7, 14, 11,  8, 10])"
      ]
     },
     "execution_count": 69,
     "metadata": {},
     "output_type": "execute_result"
    }
   ],
   "source": [
    "narr"
   ]
  },
  {
   "cell_type": "code",
   "execution_count": 70,
   "id": "f6deb3ab-7504-4863-9419-175d92c86dd9",
   "metadata": {},
   "outputs": [
    {
     "data": {
      "text/plain": [
       "array([20, 14, 28, 22, 16, 20])"
      ]
     },
     "execution_count": 70,
     "metadata": {},
     "output_type": "execute_result"
    }
   ],
   "source": [
    "narr * 2"
   ]
  },
  {
   "cell_type": "code",
   "execution_count": 71,
   "id": "97f78beb-cc77-4fde-b09a-8cd78e3144b7",
   "metadata": {},
   "outputs": [],
   "source": [
    "narr[1:4] = 99"
   ]
  },
  {
   "cell_type": "code",
   "execution_count": 72,
   "id": "ba33d2cc-d1ee-466a-ba77-5b9817c67310",
   "metadata": {},
   "outputs": [
    {
     "data": {
      "text/plain": [
       "array([10, 99, 99, 99,  8, 10])"
      ]
     },
     "execution_count": 72,
     "metadata": {},
     "output_type": "execute_result"
    }
   ],
   "source": [
    "narr"
   ]
  },
  {
   "cell_type": "code",
   "execution_count": 73,
   "id": "b3efd007-4fe0-4232-a3a6-8f8daae4dbd3",
   "metadata": {},
   "outputs": [],
   "source": [
    "narr_copy = narr.copy()"
   ]
  },
  {
   "cell_type": "code",
   "execution_count": 74,
   "id": "1c282399-e0e5-4387-a4ae-b1a973e8e93e",
   "metadata": {},
   "outputs": [],
   "source": [
    "narr_copy[1:4] = 55"
   ]
  },
  {
   "cell_type": "code",
   "execution_count": 75,
   "id": "d8b3a7c4-f8a5-47dc-b013-4d269c904651",
   "metadata": {},
   "outputs": [
    {
     "data": {
      "text/plain": [
       "array([10, 55, 55, 55,  8, 10])"
      ]
     },
     "execution_count": 75,
     "metadata": {},
     "output_type": "execute_result"
    }
   ],
   "source": [
    "narr_copy"
   ]
  },
  {
   "cell_type": "code",
   "execution_count": 76,
   "id": "51f0722f-27c9-4b53-b3cc-fcffc5e19c55",
   "metadata": {},
   "outputs": [
    {
     "data": {
      "text/plain": [
       "array([10, 99, 99, 99,  8, 10])"
      ]
     },
     "execution_count": 76,
     "metadata": {},
     "output_type": "execute_result"
    }
   ],
   "source": [
    "narr"
   ]
  },
  {
   "cell_type": "code",
   "execution_count": 78,
   "id": "92c604af-fe10-4f1d-ae71-593399c4d8b9",
   "metadata": {},
   "outputs": [
    {
     "ename": "TypeError",
     "evalue": "can only assign an iterable",
     "output_type": "error",
     "traceback": [
      "\u001b[0;31m---------------------------------------------------------------------------\u001b[0m",
      "\u001b[0;31mTypeError\u001b[0m                                 Traceback (most recent call last)",
      "Cell \u001b[0;32mIn[78], line 1\u001b[0m\n\u001b[0;32m----> 1\u001b[0m \u001b[43m[\u001b[49m\u001b[38;5;241;43m2\u001b[39;49m\u001b[43m,\u001b[49m\u001b[38;5;241;43m5\u001b[39;49m\u001b[43m,\u001b[49m\u001b[38;5;241;43m3\u001b[39;49m\u001b[43m,\u001b[49m\u001b[38;5;241;43m6\u001b[39;49m\u001b[43m,\u001b[49m\u001b[38;5;241;43m7\u001b[39;49m\u001b[43m,\u001b[49m\u001b[38;5;241;43m8\u001b[39;49m\u001b[43m]\u001b[49m\u001b[43m[\u001b[49m\u001b[38;5;241;43m1\u001b[39;49m\u001b[43m:\u001b[49m\u001b[38;5;241;43m3\u001b[39;49m\u001b[43m]\u001b[49m \u001b[38;5;241m=\u001b[39m \u001b[38;5;241m88\u001b[39m \u001b[38;5;66;03m# can't do this in Python list\u001b[39;00m\n",
      "\u001b[0;31mTypeError\u001b[0m: can only assign an iterable"
     ]
    }
   ],
   "source": [
    "[2,5,3,6,7,8][1:3] = 88 # can't do this in Python list"
   ]
  },
  {
   "cell_type": "markdown",
   "id": "9745f7b1-cdd1-4361-8984-3dfe9212c112",
   "metadata": {},
   "source": [
    "##### 4. Indexing and Selection in 2D array"
   ]
  },
  {
   "cell_type": "code",
   "execution_count": 79,
   "id": "85283ce7-b9b9-4d9b-9c62-e1559090812d",
   "metadata": {},
   "outputs": [],
   "source": [
    "narr_2d = np.random.randint(low=4, high=80, size=(4,3))"
   ]
  },
  {
   "cell_type": "code",
   "execution_count": 80,
   "id": "ac9cbebb-66f3-4c45-af9a-54424fdab33c",
   "metadata": {},
   "outputs": [
    {
     "data": {
      "text/plain": [
       "array([[78, 78, 27],\n",
       "       [ 6, 25, 56],\n",
       "       [ 5, 33, 41],\n",
       "       [ 5, 67, 63]])"
      ]
     },
     "execution_count": 80,
     "metadata": {},
     "output_type": "execute_result"
    }
   ],
   "source": [
    "narr_2d"
   ]
  },
  {
   "cell_type": "code",
   "execution_count": 81,
   "id": "f6eea0d3-385b-442d-9f10-adfe020c338e",
   "metadata": {},
   "outputs": [
    {
     "data": {
      "text/plain": [
       "array([ 5, 67, 63])"
      ]
     },
     "execution_count": 81,
     "metadata": {},
     "output_type": "execute_result"
    }
   ],
   "source": [
    "narr_2d[3]"
   ]
  },
  {
   "cell_type": "code",
   "execution_count": 82,
   "id": "7ff51129-6796-419e-a0bb-6a261336be22",
   "metadata": {},
   "outputs": [
    {
     "data": {
      "text/plain": [
       "np.int64(63)"
      ]
     },
     "execution_count": 82,
     "metadata": {},
     "output_type": "execute_result"
    }
   ],
   "source": [
    "narr_2d[3][2]"
   ]
  },
  {
   "cell_type": "code",
   "execution_count": 83,
   "id": "45987e79-d054-415d-9cc1-ca32277dfba8",
   "metadata": {},
   "outputs": [
    {
     "data": {
      "text/plain": [
       "np.int64(63)"
      ]
     },
     "execution_count": 83,
     "metadata": {},
     "output_type": "execute_result"
    }
   ],
   "source": [
    "narr_2d[3, 2]"
   ]
  },
  {
   "cell_type": "code",
   "execution_count": 84,
   "id": "9e1cef58-6aa0-44f5-93b2-d726a2fc64ef",
   "metadata": {},
   "outputs": [
    {
     "data": {
      "text/plain": [
       "array([[25, 56],\n",
       "       [33, 41]])"
      ]
     },
     "execution_count": 84,
     "metadata": {},
     "output_type": "execute_result"
    }
   ],
   "source": [
    "narr_2d[1:3, 1:4]"
   ]
  },
  {
   "cell_type": "code",
   "execution_count": 85,
   "id": "7d44235e-7831-4c5e-a7de-68e85ee1bd30",
   "metadata": {},
   "outputs": [
    {
     "data": {
      "text/plain": [
       "array([[156, 156,  54],\n",
       "       [ 12,  50, 112],\n",
       "       [ 10,  66,  82],\n",
       "       [ 10, 134, 126]])"
      ]
     },
     "execution_count": 85,
     "metadata": {},
     "output_type": "execute_result"
    }
   ],
   "source": [
    "narr_2d * 2"
   ]
  },
  {
   "cell_type": "code",
   "execution_count": 86,
   "id": "4eb8c206-8a2e-4fa7-b304-f24a1846f1df",
   "metadata": {},
   "outputs": [
    {
     "data": {
      "text/plain": [
       "array([ 78, 156, 183, 189, 214, 270, 275, 308, 349, 354, 421, 484])"
      ]
     },
     "execution_count": 86,
     "metadata": {},
     "output_type": "execute_result"
    }
   ],
   "source": [
    "narr_2d.cumsum()"
   ]
  },
  {
   "cell_type": "code",
   "execution_count": 87,
   "id": "4bf0ab5f-b85f-4053-a197-4a7870e5a904",
   "metadata": {},
   "outputs": [
    {
     "data": {
      "text/plain": [
       "np.int64(484)"
      ]
     },
     "execution_count": 87,
     "metadata": {},
     "output_type": "execute_result"
    }
   ],
   "source": [
    "narr_2d.sum()"
   ]
  },
  {
   "cell_type": "code",
   "execution_count": 88,
   "id": "e6da4fe1-833d-4021-82f4-9d7c128e3625",
   "metadata": {},
   "outputs": [
    {
     "data": {
      "text/plain": [
       "array([ 94, 203, 187])"
      ]
     },
     "execution_count": 88,
     "metadata": {},
     "output_type": "execute_result"
    }
   ],
   "source": [
    "narr_2d.sum(axis=0) # row-wise"
   ]
  },
  {
   "cell_type": "code",
   "execution_count": 89,
   "id": "6d995c80-1304-4ede-afb7-71ebd23e6ec5",
   "metadata": {},
   "outputs": [
    {
     "data": {
      "text/plain": [
       "array([183,  87,  79, 135])"
      ]
     },
     "execution_count": 89,
     "metadata": {},
     "output_type": "execute_result"
    }
   ],
   "source": [
    "narr_2d.sum(axis=1) # column-wise"
   ]
  },
  {
   "cell_type": "markdown",
   "id": "f5115115-a65e-4fac-9d37-ae86471a2a18",
   "metadata": {},
   "source": [
    "##### 5. Conditional Selection"
   ]
  },
  {
   "cell_type": "code",
   "execution_count": 90,
   "id": "28cfe984-c222-4220-94ef-9d39490787cd",
   "metadata": {},
   "outputs": [
    {
     "data": {
      "text/plain": [
       "array([ 2.        ,  2.94736842,  3.89473684,  4.84210526,  5.78947368,\n",
       "        6.73684211,  7.68421053,  8.63157895,  9.57894737, 10.52631579,\n",
       "       11.47368421, 12.42105263, 13.36842105, 14.31578947, 15.26315789,\n",
       "       16.21052632, 17.15789474, 18.10526316, 19.05263158, 20.        ])"
      ]
     },
     "execution_count": 90,
     "metadata": {},
     "output_type": "execute_result"
    }
   ],
   "source": [
    "np.linspace(start=2, stop=20,num=20) # evenly distributed numbers"
   ]
  },
  {
   "cell_type": "code",
   "execution_count": 91,
   "id": "d6eb6f97-e73f-45ac-8fc6-f71b5508bd7e",
   "metadata": {},
   "outputs": [],
   "source": [
    "ed_arr = np.linspace(start=2, stop=20,num=20)"
   ]
  },
  {
   "cell_type": "code",
   "execution_count": 92,
   "id": "8a8ac69b-17b3-4dd8-b4c8-1b0e7245986d",
   "metadata": {},
   "outputs": [],
   "source": [
    "import matplotlib.pyplot as plt\n",
    "import seaborn as sns"
   ]
  },
  {
   "cell_type": "code",
   "execution_count": 93,
   "id": "68d8824a-8244-4f9e-aac6-11b0d7c95d7d",
   "metadata": {},
   "outputs": [],
   "source": [
    "sns.set_theme(palette=['#390099','#9e0059','#ff0054','#ff5400','#ffbd00'], font='Roboto Mono', font_scale=0.8)"
   ]
  },
  {
   "cell_type": "code",
   "execution_count": 94,
   "id": "eab53b50-5067-43a9-946f-4a909a9a3aec",
   "metadata": {},
   "outputs": [
    {
     "data": {
      "text/plain": [
       "<Axes: >"
      ]
     },
     "execution_count": 94,
     "metadata": {},
     "output_type": "execute_result"
    },
    {
     "data": {
      "image/png": "[encoded data removed]",
      "text/plain": [
       "<Figure size 640x480 with 1 Axes>"
      ]
     },
     "metadata": {},
     "output_type": "display_data"
    }
   ],
   "source": [
    "sns.lineplot(data=ed_arr)"
   ]
  },
  {
   "cell_type": "code",
   "execution_count": 95,
   "id": "96f30e15-f918-48b2-9954-f09ad82cd233",
   "metadata": {},
   "outputs": [
    {
     "data": {
      "text/plain": [
       "array([22, 34, 77, 59, 23, 50, 60, 43, 61, 16, 63, 63, 48, 63, 52, 56, 65,\n",
       "        4, 52,  8])"
      ]
     },
     "execution_count": 95,
     "metadata": {},
     "output_type": "execute_result"
    }
   ],
   "source": [
    "np.random.randint(low=2, high=80, size=20)"
   ]
  },
  {
   "cell_type": "code",
   "execution_count": 96,
   "id": "6322c30a-6518-45e2-85c7-5d175fee9f89",
   "metadata": {},
   "outputs": [
    {
     "data": {
      "text/plain": [
       "<Axes: >"
      ]
     },
     "execution_count": 96,
     "metadata": {},
     "output_type": "execute_result"
    },
    {
     "data": {
      "image/png": "[encoded data removed]",
      "text/plain": [
       "<Figure size 640x480 with 1 Axes>"
      ]
     },
     "metadata": {},
     "output_type": "display_data"
    }
   ],
   "source": [
    "sns.lineplot(data=np.random.randint(low=2, high=80, size=20))"
   ]
  },
  {
   "cell_type": "code",
   "execution_count": 97,
   "id": "8bd796e6-2a43-4623-abe1-28d3cc8f04a7",
   "metadata": {},
   "outputs": [
    {
     "data": {
      "text/plain": [
       "<Axes: >"
      ]
     },
     "execution_count": 97,
     "metadata": {},
     "output_type": "execute_result"
    },
    {
     "data": {
      "image/png": "[encoded data removed]",
      "text/plain": [
       "<Figure size 640x480 with 1 Axes>"
      ]
     },
     "metadata": {},
     "output_type": "display_data"
    }
   ],
   "source": [
    "sns.lineplot(data=np.random.rand(10))"
   ]
  },
  {
   "cell_type": "code",
   "execution_count": 98,
   "id": "c98d3d4d-ee03-4156-80f8-256533b16bc5",
   "metadata": {},
   "outputs": [
    {
     "data": {
      "text/plain": [
       "<Axes: ylabel='Density'>"
      ]
     },
     "execution_count": 98,
     "metadata": {},
     "output_type": "execute_result"
    },
    {
     "data": {
      "image/png": "[encoded data removed]",
      "text/plain": [
       "<Figure size 640x480 with 1 Axes>"
      ]
     },
     "metadata": {},
     "output_type": "display_data"
    }
   ],
   "source": [
    "sns.kdeplot(data=np.random.rand(10))"
   ]
  },
  {
   "cell_type": "code",
   "execution_count": 99,
   "id": "0c8e9164-9afd-4dfd-ae4b-63e5fc9d33ab",
   "metadata": {},
   "outputs": [
    {
     "data": {
      "text/plain": [
       "<Axes: ylabel='Density'>"
      ]
     },
     "execution_count": 99,
     "metadata": {},
     "output_type": "execute_result"
    },
    {
     "data": {
      "image/png": "[encoded data removed]",
      "text/plain": [
       "<Figure size 640x480 with 1 Axes>"
      ]
     },
     "metadata": {},
     "output_type": "display_data"
    }
   ],
   "source": [
    "sns.kdeplot(data=np.random.randint(low=2, high=20, size=20))"
   ]
  },
  {
   "cell_type": "code",
   "execution_count": 100,
   "id": "56cae18e-c0e9-4c71-b033-6340330ad282",
   "metadata": {},
   "outputs": [
    {
     "data": {
      "text/plain": [
       "array([ 2.        ,  2.94736842,  3.89473684,  4.84210526,  5.78947368,\n",
       "        6.73684211,  7.68421053,  8.63157895,  9.57894737, 10.52631579,\n",
       "       11.47368421, 12.42105263, 13.36842105, 14.31578947, 15.26315789,\n",
       "       16.21052632, 17.15789474, 18.10526316, 19.05263158, 20.        ])"
      ]
     },
     "execution_count": 100,
     "metadata": {},
     "output_type": "execute_result"
    }
   ],
   "source": [
    "ed_arr"
   ]
  },
  {
   "cell_type": "code",
   "execution_count": 101,
   "id": "b44269b9-4400-4fb9-a82d-acc02bd0bf7e",
   "metadata": {},
   "outputs": [
    {
     "data": {
      "text/plain": [
       "array([10.52631579, 11.47368421, 12.42105263, 13.36842105, 14.31578947,\n",
       "       15.26315789, 16.21052632, 17.15789474, 18.10526316, 19.05263158,\n",
       "       20.        ])"
      ]
     },
     "execution_count": 101,
     "metadata": {},
     "output_type": "execute_result"
    }
   ],
   "source": [
    "ed_arr[ed_arr > 10]"
   ]
  },
  {
   "cell_type": "code",
   "execution_count": 102,
   "id": "56f8d462-63d9-4e64-aa72-46b9c29e018c",
   "metadata": {},
   "outputs": [
    {
     "data": {
      "text/plain": [
       "array([ 2.        ,  2.94736842,  3.89473684,  4.84210526,  5.78947368,\n",
       "        6.73684211,  7.68421053,  8.63157895,  9.57894737, 10.52631579,\n",
       "       11.47368421, 12.42105263, 13.36842105, 14.31578947, 15.26315789,\n",
       "       16.21052632, 17.15789474, 18.10526316, 19.05263158, 20.        ])"
      ]
     },
     "execution_count": 102,
     "metadata": {},
     "output_type": "execute_result"
    }
   ],
   "source": [
    "ed_arr"
   ]
  },
  {
   "cell_type": "code",
   "execution_count": null,
   "id": "56c559cb-cc75-46ac-954d-ea0b87be9582",
   "metadata": {},
   "outputs": [],
   "source": []
  }
 ],
 "metadata": {
  "kernelspec": {
   "display_name": "Python 3 (ipykernel)",
   "language": "python",
   "name": "python3"
  },
  "language_info": {
   "codemirror_mode": {
    "name": "ipython",
    "version": 3
   },
   "file_extension": ".py",
   "mimetype": "text/x-python",
   "name": "python",
   "nbconvert_exporter": "python",
   "pygments_lexer": "ipython3",
   "version": "3.11.1"
  }
 },
 "nbformat": 4,
 "nbformat_minor": 5
}
